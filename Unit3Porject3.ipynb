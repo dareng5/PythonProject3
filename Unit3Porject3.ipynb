{
  "nbformat": 4,
  "nbformat_minor": 0,
  "metadata": {
    "colab": {
      "name": "Unit3Porject3.ipynb",
      "provenance": [],
      "collapsed_sections": []
    },
    "kernelspec": {
      "name": "python3",
      "display_name": "Python 3"
    }
  },
  "cells": [
    {
      "cell_type": "code",
      "metadata": {
        "id": "A1R0UNeOJ11Q",
        "colab_type": "code",
        "colab": {}
      },
      "source": [
        "import pandas as pd\n",
        "import numpy as np\n",
        "import matplotlib.pyplot as plt\n",
        "import seaborn as sns\n",
        "%matplotlib inline\n",
        "import datetime as dt\n",
        "import math\n",
        "import statsmodels.api as sm\n",
        "\n",
        "#load data\n",
        "df = pd.read_csv('https://raw.githubusercontent.com/dareng5/DataSets/master/Social_Distancing_and_Enforcement__Parks_Patrol_Data.csv', parse_dates=['encounter_datetime'], infer_datetime_format=True)\n",
        "\n",
        "#drop rows without date\n",
        "df = df.dropna(subset=['encounter_datetime','simplified_encounter_type'])\n",
        "\n",
        "#breakdown the datetime\n",
        "df['month'] = df.encounter_datetime.dt.month_name()\n",
        "df['hour'] = df.encounter_datetime.dt.hour\n",
        "df['weekofyear'] = df.encounter_datetime.dt.weekofyear\n",
        "df['dayofyear'] = df.encounter_datetime.dt.dayofyear\n",
        "\n",
        "#assign shift from hour\n",
        "df['shift'] = pd.cut(df['hour'], [-1,7,15,23],labels=['0000-0800','0800-1600','1600-2400'])\n",
        "\n",
        "#adding patrol count\n",
        "df['count'] = 1\n",
        "\n",
        "#combining amenity\n",
        "df['amenity'] = df['closed_amenity'].fillna('') + df['sd_amenity'].fillna('')\n",
        "df = df.replace({'amenity':{'Beach - Water':'Beach', 'Bench/sitting area':'Beach', 'Dog Run':'Dog run', 'Tennis court':'Tennis courts'}})\n",
        "\n",
        "#print(df.head())\n",
        "#df.dtypes"
      ],
      "execution_count": null,
      "outputs": []
    },
    {
      "cell_type": "code",
      "metadata": {
        "id": "4Ge6eEXKSL9a",
        "colab_type": "code",
        "colab": {}
      },
      "source": [
        "#showing results of patrols by borough over time\n",
        "dfborough = df.groupby(['month','park_borough','simplified_encounter_type'])['count'].sum().reset_index()\n",
        "\n",
        "g1 = sns.catplot(x='park_borough', y='count', hue='simplified_encounter_type',\n",
        "                 col='month', col_wrap=3, col_order=['April','May','June','July','August'],\n",
        "                 data=dfborough, kind='bar',palette=sns.color_palette('muted'),\n",
        "                 height=4, aspect=1, legend=False)\n",
        "plt.legend(bbox_to_anchor=(1.2, 0.3), loc='upper left', borderaxespad=0.)\n",
        "plt.subplots_adjust(top=.87)\n",
        "g1.fig.suptitle('Patrols result by borough\\nFor period 04/14/20 thru 08/02/20')\n",
        "g1.set_xticklabels(rotation=30)\n",
        "g1.set_axis_labels('Borough')\n",
        "plt.show(g1)"
      ],
      "execution_count": null,
      "outputs": []
    },
    {
      "cell_type": "code",
      "metadata": {
        "id": "CVlEw9q3IY01",
        "colab_type": "code",
        "colab": {}
      },
      "source": [
        "#showing encounter by Amenity over time\n",
        "dfanemity = df[(df['simplified_encounter_type']!='No Encounter')]\n",
        "dfanemity = dfanemity.groupby(['simplified_encounter_type','weekofyear','amenity'])['count'].sum().reset_index()\n",
        "\n",
        "g2 = sns.catplot(x='weekofyear', y='count', hue='simplified_encounter_type',\n",
        "                 col='amenity', col_wrap=8,\n",
        "                 data=dfanemity, kind='point',\n",
        "                 height=4, aspect=.8, legend_out=False)\n",
        "plt.subplots_adjust(top=.9)\n",
        "g2.fig.suptitle('Encounter count by Amenity\\nFor period 04/14/20 thru 08/02/20')\n",
        "g2.set_titles(\"{col_name}\")\n",
        "g2.set_xticklabels(rotation=90)\n",
        "g2.set_axis_labels('Week of Year')\n",
        "g2._legend.set_title('')\n",
        "plt.show(g2)"
      ],
      "execution_count": null,
      "outputs": []
    },
    {
      "cell_type": "code",
      "metadata": {
        "id": "k0fzoQgH8GC0",
        "colab_type": "code",
        "colab": {}
      },
      "source": [
        "#showing encounter by Amenity over time\n",
        "dfshift = df[(df['simplified_encounter_type']!='No Encounter')]\n",
        "dfshift = dfshift.groupby(['shift','weekofyear','amenity'])['count'].sum().reset_index()\n",
        "\n",
        "g3 = sns.catplot(x='weekofyear', y='count', hue='shift',\n",
        "                 col='amenity', col_wrap=8,\n",
        "                 data=dfshift, kind='point',\n",
        "                 height=4, aspect=.8, legend_out=False)\n",
        "plt.subplots_adjust(top=.9)\n",
        "g3.fig.suptitle('Encounter count on shift by Amenity\\nFor period 04/14/20 thru 08/02/20')\n",
        "g3.set_titles(\"{col_name}\")\n",
        "g3.set_xticklabels(rotation=90)\n",
        "g3.set_axis_labels('Week of Year')\n",
        "g3._legend.set_title('')\n",
        "plt.show(g3)"
      ],
      "execution_count": null,
      "outputs": []
    },
    {
      "cell_type": "code",
      "metadata": {
        "id": "MdN66nzP1-wl",
        "colab_type": "code",
        "colab": {}
      },
      "source": [
        "#rending on social distancing encounter\n",
        "dftrend = df[(df['simplified_encounter_type']=='Social Distancing')]\n",
        "dftrend = dftrend.groupby(['dayofyear'])['count'].sum().reset_index()\n",
        "\n",
        "#fit a linear model using OLS (ordinary least squares) method\n",
        "model = sm.OLS(dftrend['count'], sm.add_constant(dftrend['dayofyear']))\n",
        "results = model.fit()\n",
        "print(results.summary())\n",
        "\n",
        "#plot graph\n",
        "g4 = sns.regplot(x='dayofyear', y='count', data=dftrend, truncate=False)\n",
        "plt.show(g4)\n",
        "\n",
        "#estimate date where social distancing encounter = 0\n",
        "d1 = int(math.ceil(results.params['const']/-results.params['dayofyear']))\n",
        "d2 = pd.to_datetime(2020 * 1000 + d1, format='%Y%j').date()\n",
        "print('\\nThe estimated date of no scoial distancing encounter from patrols is ' + str(d2) + '.')"
      ],
      "execution_count": null,
      "outputs": []
    }
  ]
}